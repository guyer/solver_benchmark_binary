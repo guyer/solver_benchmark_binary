{
 "cells": [
  {
   "cell_type": "markdown",
   "id": "de06ce82-5a41-47b5-8433-0339be1c3813",
   "metadata": {
    "tags": []
   },
   "source": [
    "# Binary Alloy Phase Field"
   ]
  },
  {
   "cell_type": "markdown",
   "id": "9aa8c272-cf34-49e6-a585-fce73d963302",
   "metadata": {},
   "source": [
    "\\begin{align}\n",
    "\\frac{1}{M_\\phi}\\frac{\\partial \\phi}{\\partial t} &= \\nabla\\cdot\\left(\\kappa_\\phi\\nabla \\phi\\right)\n",
    "- \\left[\n",
    "    \\left(1-C\\right)\\frac{L_A\\left(T - T_m^A\\right)}{T_m^A}\n",
    "    + C\\frac{L_B\\left(T - T_m^B\\right)}{T_m^B}\n",
    "\\right] p'(\\phi)\n",
    "- \\left[\n",
    "    \\left(1-C\\right)\\frac{W_A}{2}\n",
    "    + C\\frac{W_B}{2}\n",
    "\\right] g'(\\phi)\n",
    "\\\\\n",
    "\\frac{\\partial C}{\\partial t} &= \\nabla\\cdot\\left(D_C\\nabla C\\right)\n",
    "\\\\ &\\quad {} + \\nabla\\cdot\\left(\n",
    "    D_C\\frac{C\\left(1-C\\right)V_m}{RT}\n",
    "    \\left\\{\n",
    "        \\left[\n",
    "            \\frac{L_B\\left(T - T_m^B\\right)}{T_m^B}\n",
    "            - \\frac{L_A\\left(T - T_m^A\\right)}{T_m^A}\n",
    "        \\right] p'(\\phi)\n",
    "        - \\frac{W_B - W_A}{2} g'(\\phi)\n",
    "    \\right\\}\n",
    "    \\nabla \\phi\\right)\n",
    "\\end{align}"
   ]
  },
  {
   "cell_type": "markdown",
   "id": "2e8f455c-bf94-4c19-b04a-da57cc9d6331",
   "metadata": {},
   "source": [
    "non-dimensionalize"
   ]
  },
  {
   "cell_type": "markdown",
   "id": "b5f885b7-d977-4f05-9d66-952e79053313",
   "metadata": {},
   "source": [
    "\\begin{align}\n",
    "\\frac{1}{M_\\phi}\\frac{\\partial \\phi}{\\partial t \\tau} &= \\frac{1}{\\lambda}\\nabla\\cdot\\left(\\kappa_\\phi\\frac{1}{\\lambda}\\nabla \\phi\\right)\n",
    "- \\left[\n",
    "    \\left(1-C\\right)L_A\\left(\\frac{T}{T_m^A} - 1\\right)\n",
    "    + C L_B\\left(\\frac{T}{T_m^B} - 1\\right)\n",
    "\\right] p'(\\phi)\n",
    "- \\left[\n",
    "    \\left(1-C\\right)\\frac{W_A}{2}\n",
    "    + C\\frac{W_B}{2}\n",
    "\\right] g'(\\phi)\n",
    "\\\\\n",
    "\\frac{\\partial C}{\\partial t \\tau} &= \\frac{1}{\\lambda}\\nabla\\cdot\\left(D_C\\frac{1}{\\lambda}\\nabla C\\right)\n",
    "\\\\ &\\quad {} + \\frac{1}{\\lambda} \\nabla\\cdot\\left(\n",
    "    D_C\\frac{C\\left(1-C\\right)V_m}{RT}\n",
    "    \\left\\{\n",
    "        \\left[\n",
    "            L_B\\left(\\frac{T}{T_m^B} - 1\\right)\n",
    "            - L_A\\left(\\frac{T}{T_m^A} - 1\\right)\n",
    "        \\right] p'(\\phi)\n",
    "        - \\frac{W_B - W_A}{2} g'(\\phi)\n",
    "    \\right\\}\n",
    "    \\frac{1}{\\lambda} \\nabla \\phi\\right)\n",
    "\\end{align}"
   ]
  },
  {
   "cell_type": "markdown",
   "id": "f1a1aef8-539e-409d-af42-5320fca14461",
   "metadata": {},
   "source": [
    "\\begin{align}\n",
    "\\frac{\\partial \\phi}{\\partial t} &= \\nabla\\cdot\\left(\\frac{M_\\phi\\tau\\kappa_\\phi}{\\lambda^2}\\nabla \\phi\\right)\n",
    "- \\left[\n",
    "    \\left(1-C\\right)M_\\phi\\tau L_A\\left(\\frac{T}{T_m^A} - 1\\right)\n",
    "    + C M_\\phi\\tau L_B\\left(\\frac{T}{T_m^B} - 1\\right)\n",
    "\\right] p'(\\phi)\n",
    "- \\left[\n",
    "    \\left(1-C\\right)\\frac{M_\\phi\\tau W_A}{2}\n",
    "    + C\\frac{M_\\phi\\tau W_B}{2}\n",
    "\\right] g'(\\phi)\n",
    "\\\\\n",
    "\\frac{\\partial C}{\\partial t} &= \\nabla\\cdot\\left(\\frac{D_C\\tau}{\\lambda^2}\\nabla C\\right)\n",
    "\\\\ &\\quad {} + \\nabla\\cdot\\left(\n",
    "    \\frac{D_C\\tau}{\\lambda^2}C\\left(1-C\\right)\n",
    "    \\left\\{\n",
    "        \\left[\n",
    "            \\frac{L_B V_m}{RT}\\left(\\frac{T}{T_m^B} - 1\\right)\n",
    "            - \\frac{L_A V_m}{RT}\\left(\\frac{T}{T_m^A} - 1\\right)\n",
    "        \\right] p'(\\phi)\n",
    "        - \\frac{\\frac{W_B V_m}{RT} - \\frac{W_A V_m}{RT}}{2} g'(\\phi)\n",
    "    \\right\\}\n",
    "    \\nabla \\phi\\right)\n",
    "\\end{align}"
   ]
  },
  {
   "cell_type": "markdown",
   "id": "abcfa44a-666b-43b1-af6b-fa9c4cd5b6ec",
   "metadata": {},
   "source": [
    "\\begin{align}\n",
    "M_\\phi &= \\frac{T_m^A \\beta_A}{6 L_A \\delta_A}\n",
    "\\\\\n",
    "&\\sim \\mathrm{\\frac{K \\frac{cm}{K s}}{\\frac{J}{cm^3} cm}}\n",
    "\\\\\n",
    "&\\sim \\mathrm{\\frac{cm^3}{J\\,s}}\n",
    "\\end{align}"
   ]
  },
  {
   "cell_type": "markdown",
   "id": "ccccbb70-bed3-4fa8-840a-c4174339ffe0",
   "metadata": {},
   "source": [
    "let\n",
    "\\begin{align}\n",
    "\\tau \\equiv \\frac{\\lambda^2}{M_\\phi\\kappa_\\phi} &\\sim \\mathrm{cm^2 \\frac{J\\,s}{cm^3}\\frac{cm}{J}}\n",
    "\\\\\n",
    "&\\sim \\mathrm{s}\n",
    "\\end{align}"
   ]
  },
  {
   "cell_type": "markdown",
   "id": "d5b902b1-bc90-4a9a-8abb-040b151a2fd8",
   "metadata": {},
   "source": [
    "\\begin{align}\n",
    "\\tilde{L}_? \\equiv \\tau M_\\phi L_? &\\sim \\mathrm{s\\frac{cm^3}{J\\,s}\\frac{J}{cm^3}}\n",
    "\\\\\n",
    "&\\sim 1\n",
    "\\end{align}"
   ]
  },
  {
   "cell_type": "markdown",
   "id": "842cfdc2-fa08-4d7e-9ee8-b11f3d36b445",
   "metadata": {},
   "source": [
    "\\begin{align}\n",
    "\\tilde{W}_? \\equiv \\tau M_\\phi W_? &\\sim \\mathrm{s\\frac{cm^3}{J\\,}\\frac{J}{cm^3}}\n",
    "\\\\\n",
    "&\\sim 1\n",
    "\\end{align}"
   ]
  },
  {
   "cell_type": "markdown",
   "id": "701164be-c417-4d6d-af59-4481d834f92a",
   "metadata": {},
   "source": [
    "Rate of diffusion relative to the rate of phase transformation:\n",
    "\\begin{align}\n",
    "\\tilde{D}_C \\equiv \\frac{D_C \\tau}{\\lambda^2} &= \\frac{D_C \\lambda^2}{M_\\phi\\kappa_\\phi\\lambda^2}\n",
    "\\\\\n",
    "&\\sim \\mathrm{\\frac{cm^2}{s}\\frac{J\\,s}{cm^3}\\frac{cm}{J}}\n",
    "\\\\\n",
    "&\\sim 1\n",
    "\\end{align}"
   ]
  },
  {
   "cell_type": "markdown",
   "id": "e7480b7a-e87a-4378-9ae0-be1944718575",
   "metadata": {},
   "source": [
    "Gradient energy relative to thermal energy:\n",
    "\\begin{align}\n",
    "\\xi \\equiv \\frac{V_m}{R T} \\frac{1}{\\tau M_\\phi}\n",
    "&= \\frac{V_m}{R T} \\frac{M_\\phi \\kappa_\\phi}{\\lambda^2 M_\\phi}\n",
    "\\\\\n",
    "&\\sim \\mathrm{\\frac{cm^3}{mol}\\frac{mol\\,K}{J\\,K}\\frac{J}{cm^3}}\n",
    "\\\\\n",
    "&\\sim 1\n",
    "\\end{align}"
   ]
  },
  {
   "cell_type": "markdown",
   "id": "255041a6-06c0-41bf-8ff7-4482c16e7f7d",
   "metadata": {},
   "source": [
    "\\begin{align}\n",
    "\\frac{\\partial \\phi}{\\partial t} &= \\nabla^2 \\phi\n",
    "- \\left[\n",
    "    \\left(1-C\\right)\\tilde{L}_A\\left(\\frac{T}{T_m^A} - 1\\right)\n",
    "    + C \\tilde{L}_B\\left(\\frac{T}{T_m^B} - 1\\right)\n",
    "\\right] p'(\\phi)\n",
    "- \\left[\n",
    "    \\left(1-C\\right)\\frac{\\tilde{W}_A}{2}\n",
    "    + C\\frac{\\tilde{W}_B}{2}\n",
    "\\right] g'(\\phi)\n",
    "\\\\\n",
    "\\frac{\\partial C}{\\partial t} &= \\nabla\\cdot\\left(\\tilde{D}_C\\nabla C\\right)\n",
    "\\\\ &\\quad {} + \\nabla\\cdot\\left(\n",
    "    \\tilde{D}_C C\\left(1-C\\right)\n",
    "    \\xi\n",
    "    \\left\\{\n",
    "        \\left[\n",
    "            \\tilde{L}_B\\left(\\frac{T}{T_m^B} - 1\\right)\n",
    "            - \\tilde{L}_A\\left(\\frac{T}{T_m^A} - 1\\right)\n",
    "        \\right] p'(\\phi)\n",
    "        - \\frac{\\tilde{W}_B - \\tilde{W}_A}{2} g'(\\phi)\n",
    "    \\right\\}\n",
    "    \\nabla \\phi\\right)\n",
    "\\end{align}"
   ]
  },
  {
   "cell_type": "markdown",
   "id": "f844e112-189d-4338-99e8-7fc70527bb5e",
   "metadata": {},
   "source": [
    "Comparing the phase equation with the [nucleation benchmark](nucleation.ipynb) equation\n",
    "$$\n",
    "\\begin{aligned}\n",
    "\\frac{\\partial\\phi}{\\partial t} &= \\nabla^2 \\phi - g'(\\phi) + \\Delta f p'(\\phi)\n",
    "\\\\\n",
    "\\Delta f \n",
    "&\\approx -\\left[\\left(1-C\\right)\\tilde{L}_A\\left(\\frac{T}{T_m^A} - 1\\right)\n",
    "+ C \\tilde{L}_B\\left(\\frac{T}{T_m^B} - 1\\right)\\right]\n",
    "\\\\\n",
    "&= -\\left[\\tilde{L}\n",
    "+ C \\Delta \\tilde{L}\\right]\n",
    "\\\\\n",
    "1 &\\approx \\left[\n",
    "    \\left(1-C\\right)\\frac{\\tilde{W}_A}{2}\n",
    "    + C\\frac{\\tilde{W}_B}{2}\n",
    "\\right]\n",
    "\\\\\n",
    "&= \\left[\n",
    "    \\frac{\\tilde{W}}{2}\n",
    "    + C\\frac{\\Delta\\tilde{W}}{2}\n",
    "\\right]\n",
    "\\end{aligned}\n",
    "$$"
   ]
  },
  {
   "cell_type": "markdown",
   "id": "6fc32cd6-f58c-4f31-a402-fe6bd6cc26ea",
   "metadata": {},
   "source": [
    "To keep parameters centered on the same values used for the nucleation benchmark, we let\n",
    "\\begin{align}\n",
    "\\Delta f &\\equiv -\\left[\n",
    "    \\tilde{L} + \\frac{\\Delta\\tilde{L}}{2}\n",
    "\\right]\n",
    "\\\\\n",
    "\\tilde{L}\n",
    "&\\equiv     \n",
    "-\\Delta f\\left(1 + \\frac{1}{2}\\zeta\\right)\n",
    "\\end{align}\n",
    "with ratio of segregation relative to driving force\n",
    "\\begin{align}\n",
    "\\zeta &\\equiv \\frac{\\Delta\\tilde{L}}{\\Delta f}\n",
    "\\\\\n",
    "\\frac{\\tilde{W}}{2} &\\equiv 1 - \\frac{\\Delta\\tilde{W}}{4}\n",
    "\\end{align}\n",
    "where $\\Delta\\tilde{W}$ is a measure of relative adsorption(?)"
   ]
  },
  {
   "cell_type": "markdown",
   "id": "7769074b-b2a0-448c-a49d-d667919c50ff",
   "metadata": {},
   "source": [
    "\\begin{align}\n",
    "\\frac{\\partial \\phi}{\\partial t} &= \\nabla^2 \\phi\n",
    "+ \\Delta f\\left[\n",
    "    1 + \\frac{1}{2}\\left(1 - 2 C\\right)\\zeta\n",
    "\\right] p'(\\phi)\n",
    "- \\left[\n",
    "    1 - \\frac{1}{4}\\left(1 - 2 C\\right)\\Delta\\tilde{W}\n",
    "\\right] g'(\\phi)\n",
    "\\\\\n",
    "\\frac{\\partial C}{\\partial t} &= \\nabla\\cdot\\left(\\tilde{D}_C\\nabla C\\right)\n",
    "\\\\ &\\quad {} + \\nabla\\cdot\\left(\n",
    "    \\tilde{D}_C C\\left(1-C\\right)\n",
    "    \\xi\n",
    "    \\left\\{\n",
    "        \\zeta \\Delta f p'(\\phi)\n",
    "        - \\frac{\\Delta\\tilde{W}}{2} g'(\\phi)\n",
    "    \\right\\}\n",
    "    \\nabla \\phi\\right)\n",
    "\\end{align}"
   ]
  },
  {
   "cell_type": "markdown",
   "id": "49c28a59-052b-4948-9dcb-ff3cd61fce42",
   "metadata": {},
   "source": [
    "\\begin{align}\n",
    "\\xi &\\equiv \\frac{V_m}{R T} \\frac{1}{\\tau M_\\phi}\n",
    "\\\\\n",
    "&= \\mathrm{\\frac{7.42~cm^3}{mol}\n",
    "\\frac{mol\\,K}{8.314~J}\n",
    "\\frac{1}{1500~K}\n",
    "\\frac{1}{1500~K}\n",
    "\\frac{K\\,s}{0.33~cm}\n",
    "6\n",
    "\\frac{2000~J}{cm^3}\n",
    "1.5~5\\times 10^{-6}~cm\n",
    "\\frac{1}{\\tau}}\n",
    "\\\\\n",
    "&\\approx \\frac{10^{-7} s}{\\tau}\n",
    "\\end{align}"
   ]
  },
  {
   "cell_type": "markdown",
   "id": "ba8d1aea-ea4e-4b9f-9732-835f53fb05aa",
   "metadata": {},
   "source": [
    "\\begin{align}\n",
    "\\xi &\\equiv \\frac{V_m}{R T} \\frac{\\kappa_\\phi}{\\lambda^2}\n",
    "\\\\\n",
    "&= \\mathrm{\\frac{7.42~cm^3}{mol}\n",
    "\\frac{mol\\,K}{8.314~J}\n",
    "\\frac{1}{1500~K}\n",
    "6 \\cdot\n",
    "3\\times 10^{-5} \\frac{J}{cm^2}\n",
    "1.5 \\cdot\n",
    "5\\times 10^{-6} cm\n",
    "\\frac{1}{\\lambda^2}}\n",
    "\\\\\n",
    "&\\approx \n",
    "\\frac{\\mathrm{10^{-12} cm^2}}{\\lambda^2}\n",
    "\\end{align}"
   ]
  },
  {
   "cell_type": "code",
   "execution_count": 30,
   "id": "6bfce867-5750-453b-a84b-e1d62c512015",
   "metadata": {
    "tags": []
   },
   "outputs": [
    {
     "data": {
      "text/plain": [
       "8.032234784700505e-13"
      ]
     },
     "execution_count": 30,
     "metadata": {},
     "output_type": "execute_result"
    }
   ],
   "source": [
    "(7.42 * 6 * 3e-5 * 1.5 * 5e-6)/(8.314 * 1500)"
   ]
  },
  {
   "cell_type": "markdown",
   "id": "606a78cc-24b9-4ebe-bab3-862a477dbac2",
   "metadata": {},
   "source": [
    "\\begin{align}\n",
    "\\tilde{D}_C &\\equiv \\frac{D_C}{M_\\phi\\kappa_\\phi}\n",
    "\\\\\n",
    "&\\equiv \\frac{D_C L_?}{T_m^? \\beta_? \\sigma_?}\n",
    "\\\\\n",
    "&= \\mathrm{10^{-5}\\frac{cm^2}{s}\n",
    "2000\\frac{J}{cm^3}\n",
    "\\frac{1}{1500~K}\n",
    "\\frac{K\\,s}{0.33~cm}\n",
    "\\frac{cm^2}{3\\times 10^{-5}~J}\n",
    "}\n",
    "\\\\\n",
    "&\\approx 1.3\n",
    "\\end{align}"
   ]
  },
  {
   "cell_type": "code",
   "execution_count": 34,
   "id": "5fee9e99-5205-43de-8991-e247aee2f39a",
   "metadata": {
    "tags": []
   },
   "outputs": [
    {
     "data": {
      "text/plain": [
       "0.7424999999999999"
      ]
     },
     "execution_count": 34,
     "metadata": {},
     "output_type": "execute_result"
    }
   ],
   "source": [
    "1 / (1e-5 * 2000 / (1500 * 0.33 * 3e-5))"
   ]
  },
  {
   "cell_type": "markdown",
   "id": "82b677c3-f697-4b99-b24a-17832f739bd9",
   "metadata": {},
   "source": [
    "Let\n",
    "\\begin{align}\n",
    "\\tilde{D}_C \\xi &\\equiv 1\n",
    "\\\\\n",
    "\\xi &\\approx \\frac{1}{1.3}\n",
    "\\\\\n",
    "\\frac{\\mathrm{10^{-12}~cm^2}}{\\lambda^2} &\\approx \\frac{1}{1.3}\n",
    "\\\\\n",
    "\\lambda &\\approx \\mathrm{1.16 \\times 10^{-6}~cm}\n",
    "\\end{align}"
   ]
  },
  {
   "cell_type": "markdown",
   "id": "101c6979-b8dc-48a8-a868-86bb414860ba",
   "metadata": {
    "tags": []
   },
   "source": [
    "Let $\\tilde{D}_C \\approx \\xi \\approx 1$\n",
    "\\begin{align}\n",
    "\\frac{\\partial C}{\\partial t} &= \\nabla^2 C\n",
    "+ \\nabla\\cdot\\left[\n",
    "    C\\left(1-C\\right)\n",
    "    \\left(\n",
    "        \\zeta \\Delta f p'(\\phi)\n",
    "        - \\frac{\\Delta\\tilde{W}}{2} g'(\\phi)\n",
    "    \\right)\n",
    "    \\nabla \\phi\\right]\n",
    "\\\\\n",
    "&= \\nabla^2 C\n",
    "+ \\nabla\\cdot\\left[\n",
    "    C\\left(1-C\\right)\n",
    "    \\left(\n",
    "        \\zeta \\Delta f \\nabla p(\\phi)\n",
    "        - \\frac{\\Delta\\tilde{W}}{2} \\nabla g(\\phi)\n",
    "    \\right)\n",
    "\\right]\n",
    "\\end{align}"
   ]
  },
  {
   "cell_type": "markdown",
   "id": "bc5d1e9d-2b59-4142-953e-5349495bf223",
   "metadata": {},
   "source": [
    "## Free energy"
   ]
  },
  {
   "cell_type": "markdown",
   "id": "08282995-73cd-45c4-a3bf-c44ab82e7377",
   "metadata": {},
   "source": [
    "\\begin{align}\n",
    "f(\\phi, C, T) &= (1 - C) f_A(\\phi, T) + C f_B(\\phi, T)\n",
    "\\\\\n",
    "&\\qquad {} + \\frac{R T}{V_m}\\left[\n",
    "    \\left(1 - C\\right)\\ln\\left(1 - C\\right) + C\\ln C\n",
    "\\right]\n",
    "\\\\\n",
    "\\frac{f(\\phi, C, T) V_m}{RT}\n",
    "&= (1 - C) \\frac{f_A(\\phi, T) V_m}{R T} + C \\frac{f_B(\\phi, T) V_m}{R T}\n",
    "\\\\\n",
    "&\\qquad {} + \\left[\n",
    "    \\left(1 - C\\right)\\ln\\left(1 - C\\right) + C\\ln C\n",
    "\\right]\n",
    "\\\\\n",
    "f_?(\\phi, T)\n",
    "&= L_? \\left(\\frac{T}{T_m^?} - 1\\right) p(\\phi) + \\frac{W_?}{2} g(\\phi)\n",
    "\\\\\n",
    "\\frac{f_?(\\phi, T) V_m}{RT}\n",
    "&= \\frac{L_? V_m}{RT} \\frac{\\tau M_\\phi}{\\tau M_\\phi} \\left(\\frac{T}{T_m^?} - 1\\right)  p(\\phi)\n",
    "+ \\frac{1}{2} \\frac{W_? V_m}{R T} \\frac{\\tau M_\\phi}{\\tau M_\\phi} g(\\phi)\n",
    "\\\\\n",
    "f_?(\\phi, T)\\frac{V_m}{RT}\n",
    "&= \\xi \\left[\\tilde{L}_? \\left(\\frac{T}{T_m^?} - 1\\right)  p(\\phi)\n",
    "+ \\frac{\\tilde{W}_?}{2} g(\\phi)\n",
    "\\right]\n",
    "\\end{align}"
   ]
  },
  {
   "cell_type": "markdown",
   "id": "ca080f2b-ff8e-4403-a73f-fe0f39bfc0e6",
   "metadata": {},
   "source": [
    "\\begin{align}\n",
    "\\left(1-C\\right)\\tilde{L}_A\\left(\\frac{T}{T_m^A} - 1\\right)\n",
    "+ C \\tilde{L}_B\\left(\\frac{T}{T_m^B} - 1\\right)\n",
    "&= \\tilde{L}\n",
    "+ C \\Delta \\tilde{L}\n",
    "\\\\\n",
    "&= \n",
    "-\\Delta f \\left( 1 + \\frac{1}{2} \\zeta - C \\zeta\\right)\n",
    "&= \n",
    "-\\Delta f \\left[ 1 + \\frac{1}{2} \\left(1 - 2 C\\right)\\zeta\\right]\n",
    "\\\\\n",
    "\\tilde{L}_A\\left(\\frac{T}{T_m^A} - 1\\right)\n",
    "&= -\\Delta f \\left(1 + \\frac{1}{2} \\zeta\\right)\n",
    "\\\\\n",
    "\\tilde{L}_B\\left(\\frac{T}{T_m^B} - 1\\right)\n",
    "&= -\\Delta f \\left(1 - \\frac{1}{2} \\zeta\\right)\n",
    "\\end{align}"
   ]
  },
  {
   "cell_type": "markdown",
   "id": "13ef5c0c-dd66-4ff5-9cd0-7e71d57a4f4d",
   "metadata": {},
   "source": [
    "\\begin{aligned}\n",
    "\\left(1-C\\right)\\frac{\\tilde{W}_A}{2}\n",
    "+ C\\frac{\\tilde{W}_B}{2}\n",
    "&= \n",
    "\\frac{\\tilde{W}}{2}\n",
    "+ C\\frac{\\Delta\\tilde{W}}{2}\n",
    "\\\\\n",
    "&= \n",
    "1 - \\frac{\\Delta\\tilde{W}}{4}\n",
    "+ C\\frac{\\Delta\\tilde{W}}{2}\n",
    "\\\\\n",
    "\\frac{\\tilde{W}_A}{2} &= 1 - \\frac{\\Delta\\tilde{W}}{4}\n",
    "\\\\\n",
    "\\frac{\\tilde{W}_B}{2} &= 1 + \\frac{\\Delta\\tilde{W}}{4}\n",
    "\\end{aligned}"
   ]
  },
  {
   "cell_type": "markdown",
   "id": "e164e918-3c95-4232-9bf9-81ddc0afac5f",
   "metadata": {
    "tags": []
   },
   "source": [
    "\\begin{align}\n",
    "f_A(\\phi, T)\\frac{V_m}{RT}\n",
    "&= \\xi \\left[-\\Delta f\\left(1 + \\frac{1}{2}\\zeta\\right)  p(\\phi)\n",
    "+ \\left(1 - \\frac{\\Delta\\tilde{W}}{2} \\right) g(\\phi)\n",
    "\\right]\n",
    "\\\\\n",
    "f_B(\\phi, T)\\frac{V_m}{RT}\n",
    "&= \\xi \\left[-\\Delta f\\left(1 - \\frac{1}{2}\\zeta\\right)  p(\\phi)\n",
    "+ \\left(1 + \\frac{\\Delta\\tilde{W}}{2} \\right) g(\\phi)\n",
    "\\right]\n",
    "\\end{align}"
   ]
  },
  {
   "cell_type": "markdown",
   "id": "db7722ff-4550-4596-8581-7564f95349f1",
   "metadata": {},
   "source": [
    "\\begin{align}\n",
    "\\frac{f(\\phi, C, T) V_m}{RT}\n",
    "&= (1 - C) \\xi \\left[-\\Delta f\\left(1 + \\frac{1}{2}\\zeta\\right)  p(\\phi)\n",
    "+ \\left(1 - \\frac{\\Delta\\tilde{W}}{2} \\right) g(\\phi)\n",
    "\\right]\n",
    "\\\\\n",
    "&\\qquad {} + C \\xi \\left[-\\Delta f\\left(1 - \\frac{1}{2}\\zeta\\right)  p(\\phi)\n",
    "+ \\left(1 + \\frac{\\Delta\\tilde{W}}{2} \\right) g(\\phi)\n",
    "\\right]\n",
    "\\\\\n",
    "&\\qquad {} + \\left[\n",
    "    \\left(1 - C\\right)\\ln\\left(1 - C\\right) + C\\ln C\n",
    "\\right]\n",
    "\\\\\n",
    "&= \\xi \\left\\{ \n",
    "-\\Delta f \\left[1 + \\frac{1}{2} (1 - 2C) \\zeta\n",
    "\\right]p(\\phi)\\right.\n",
    "\\\\\n",
    "&\\qquad \\left. {} + \\left[\n",
    "1 - \\frac{1}{2} (1 - 2C) \\Delta\\tilde{W}\n",
    "\\right] g(\\phi)\n",
    "\\right\\}\n",
    "\\\\\n",
    "&\\qquad {} + \\left[\n",
    "    \\left(1 - C\\right)\\ln\\left(1 - C\\right) + C\\ln C\n",
    "\\right]\n",
    "\\end{align}"
   ]
  },
  {
   "cell_type": "code",
   "execution_count": null,
   "id": "edfdbfeb-aa21-4c6e-ae18-e32839f6ef4d",
   "metadata": {},
   "outputs": [],
   "source": []
  }
 ],
 "metadata": {
  "kernelspec": {
   "display_name": "Python 3 (ipykernel)",
   "language": "python",
   "name": "python3"
  },
  "language_info": {
   "codemirror_mode": {
    "name": "ipython",
    "version": 3
   },
   "file_extension": ".py",
   "mimetype": "text/x-python",
   "name": "python",
   "nbconvert_exporter": "python",
   "pygments_lexer": "ipython3",
   "version": "3.11.5"
  }
 },
 "nbformat": 4,
 "nbformat_minor": 5
}

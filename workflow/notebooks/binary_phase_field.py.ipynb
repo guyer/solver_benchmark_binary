{
 "cells": [
  {
   "cell_type": "markdown",
   "id": "4baf20be-c72f-4a63-bf98-59a85fa60ebc",
   "metadata": {},
   "source": [
    "# Binary Phase Field Benchmark\n",
    "\n",
    "FiPy implementation of phase transormation in 2D with solutal driving force"
   ]
  },
  {
   "cell_type": "markdown",
   "id": "0d7ea1f3-4ff4-47a2-a0c7-4075c1fecd05",
   "metadata": {},
   "source": [
    "**Do not edit `binary_phase_field.py`**. Generate the batch-runnable file from the notebook with\n",
    "```bash\n",
    "jupyter nbconvert binary_phase_field.ipynb --to python --output-dir=../scripts/\n",
    "```"
   ]
  },
  {
   "cell_type": "markdown",
   "id": "fc2daa46-b0c0-4372-ba85-9bdd2c57a64d",
   "metadata": {},
   "source": [
    "## Import Python modules"
   ]
  },
  {
   "cell_type": "code",
   "execution_count": null,
   "id": "5f1c8a3a-0908-4454-86cd-5df4dbf9aa49",
   "metadata": {
    "ExecuteTime": {
     "end_time": "2019-10-13T11:27:53.359783Z",
     "start_time": "2019-10-13T11:27:51.129990Z"
    },
    "tags": []
   },
   "outputs": [],
   "source": [
    "import argparse\n",
    "import json\n",
    "import os\n",
    "import re\n",
    "import sys"
   ]
  },
  {
   "cell_type": "markdown",
   "id": "fee8cc62-6b63-45ce-83a8-67c5050a6c97",
   "metadata": {},
   "source": [
    "Jupyter notebook handles some things differently than from the commandline"
   ]
  },
  {
   "cell_type": "code",
   "execution_count": null,
   "id": "45863859-a4ec-4dfd-aca0-8b8704ef4e95",
   "metadata": {
    "ExecuteTime": {
     "end_time": "2019-10-13T11:27:53.370454Z",
     "start_time": "2019-10-13T11:27:53.364756Z"
    },
    "tags": []
   },
   "outputs": [],
   "source": [
    "isnotebook = False\n",
    "try:\n",
    "    from IPython import get_ipython\n",
    "    isnotebook = (get_ipython().__class__.__name__ == \"ZMQInteractiveShell\")\n",
    "except:\n",
    "    pass"
   ]
  },
  {
   "cell_type": "markdown",
   "id": "5279a36f-cdb2-4be5-8a5a-d45d465aa0c4",
   "metadata": {},
   "source": [
    "## Initialize\n",
    "### Load parameters"
   ]
  },
  {
   "cell_type": "code",
   "execution_count": null,
   "id": "2efdffeb-089f-4d2c-b4aa-0c11e197a4b5",
   "metadata": {
    "tags": []
   },
   "outputs": [],
   "source": [
    "config = {\n",
    "    \"solvelog\": snakemake.output[0], # file to for FiPy to log into\n",
    "    \"output\": os.path.dirname(snakemake.output[0]), # directory to store results in\n",
    "    \"restart\": None, # solution to initialize from\n",
    "    \"checkpoint_interval\": 6., # frequency to save results\n",
    "    \"totaltime\": 600., # duration of full simulation\n",
    "    \"numberOfElements\": snakemake.params.config.get(\"size\", 100000), # number of total cells in a Grid2D\n",
    "    \"solver\": \"pcg\", # solver class to use\n",
    "    \"preconditioner\": \"none\", # preconditioner class to use\n",
    "    \"sweeps\": 5, # number of nonlinear sweeps to take\n",
    "    \"iterations\": 1000, # maximum number of linear iterations to take for each sweep\n",
    "    \"tolerance\": 1e-10, # linear solver tolerance\n",
    "    \"store_matrix\": True, # store the matrix and RHS vector along with other output\n",
    "    \"gradient2thermal\": 1, # strength of gradient energy relative to thermal energy\n",
    "    \"segregation2transformation\": 1, # strength of segregation relative to transformation driving force\n",
    "    \"adsorption\": 0, # strength of relative adsorption\n",
    "    \"profile\": True, # store profiling statistics along with other output\n",
    "    \"view\": True # whether to display results\n",
    "}\n",
    "config.update(snakemake.config)\n",
    "config.update(snakemake.params.config)\n",
    "\n",
    "if config[\"tolerance\"] != \"default\":\n",
    "    config[\"tolerance\"] = float(config[\"tolerance\"])"
   ]
  },
  {
   "cell_type": "markdown",
   "id": "109aaa1b-30ff-41df-a01c-4b6dab8de5e1",
   "metadata": {},
   "source": [
    "### Setup logging"
   ]
  },
  {
   "cell_type": "code",
   "execution_count": null,
   "id": "b9537130-123a-49b7-8ef6-1511fd700345",
   "metadata": {},
   "outputs": [],
   "source": [
    "if \"FIPY_LOG_CONFIG\" not in os.environ:\n",
    "    config[\"log_config\"] = os.path.join(config[\"output\"], \"logger.json\")\n",
    "\n",
    "    with open(config[\"log_config\"], \"w\") as f:\n",
    "        f.write(\"\"\"\n",
    "{{\n",
    "    \"version\": 1,\n",
    "    \"formatters\": {{\n",
    "        \"default\": {{\n",
    "            \"format\": \"%(asctime)s | %(levelname)s | %(name)s | %(funcName)s | %(message)s\"\n",
    "        }}\n",
    "    }},\n",
    "    \"handlers\": {{\n",
    "        \"serialfile\": {{\n",
    "            \"class\": \"logging.FileHandler\",\n",
    "            \"formatter\": \"default\",\n",
    "            \"filename\": \"{solvelog}\"\n",
    "        }}\n",
    "    }},\n",
    "    \"loggers\": {{\n",
    "        \"fipy\": {{\n",
    "            \"level\": \"DEBUG\",\n",
    "            \"handlers\": [\"serialfile\"]\n",
    "        }}\n",
    "    }}\n",
    "}}\n",
    "\"\"\".format(solvelog=config[\"solvelog\"]))\n",
    "\n",
    "    os.environ[\"FIPY_LOG_CONFIG\"] = config[\"log_config\"]"
   ]
  },
  {
   "cell_type": "markdown",
   "id": "ae5923d8-9ffc-4f46-9cab-b6fccf2b83c1",
   "metadata": {},
   "source": [
    "### Setup solver suite"
   ]
  },
  {
   "cell_type": "code",
   "execution_count": null,
   "id": "1208cebb-97e5-460c-981a-d0818aa5607e",
   "metadata": {},
   "outputs": [],
   "source": [
    "if \"FIPY_SOLVERS\" not in os.environ:\n",
    "    os.environ[\"FIPY_SOLVERS\"] = config[\"suite\"]"
   ]
  },
  {
   "cell_type": "markdown",
   "id": "ec4ae6c7-0ccb-4f05-a22a-a164e2b4e636",
   "metadata": {},
   "source": [
    "### Import FiPy"
   ]
  },
  {
   "cell_type": "code",
   "execution_count": null,
   "id": "d648e52b-534d-4870-bc45-35fe8482fa89",
   "metadata": {},
   "outputs": [],
   "source": [
    "!conda info"
   ]
  }
 ],
 "metadata": {
  "kernelspec": {
   "display_name": "Python 3 (ipykernel)",
   "language": "python",
   "name": "python3"
  },
  "language_info": {
   "codemirror_mode": {
    "name": "ipython",
    "version": 3
   },
   "file_extension": ".py",
   "mimetype": "text/x-python",
   "name": "python",
   "nbconvert_exporter": "python",
   "pygments_lexer": "ipython3",
   "version": "3.11.0"
  }
 },
 "nbformat": 4,
 "nbformat_minor": 5
}

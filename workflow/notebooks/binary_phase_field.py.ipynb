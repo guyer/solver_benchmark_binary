{
 "cells": [
  {
   "cell_type": "markdown",
   "id": "4baf20be-c72f-4a63-bf98-59a85fa60ebc",
   "metadata": {},
   "source": [
    "# Binary Phase Field Benchmark\n",
    "\n",
    "FiPy implementation of phase transormation in 2D with solutal driving force"
   ]
  },
  {
   "cell_type": "markdown",
   "id": "0d7ea1f3-4ff4-47a2-a0c7-4075c1fecd05",
   "metadata": {},
   "source": [
    "**Do not edit `binary_phase_field.py`**. Generate the batch-runnable file from the notebook with\n",
    "```bash\n",
    "jupyter nbconvert binary_phase_field.ipynb --to python --output-dir=../scripts/\n",
    "```"
   ]
  },
  {
   "cell_type": "markdown",
   "id": "fc2daa46-b0c0-4372-ba85-9bdd2c57a64d",
   "metadata": {},
   "source": [
    "## Import Python modules"
   ]
  },
  {
   "cell_type": "code",
   "execution_count": null,
   "id": "5f1c8a3a-0908-4454-86cd-5df4dbf9aa49",
   "metadata": {
    "ExecuteTime": {
     "end_time": "2019-10-13T11:27:53.359783Z",
     "start_time": "2019-10-13T11:27:51.129990Z"
    },
    "tags": []
   },
   "outputs": [],
   "source": [
    "import argparse\n",
    "import json\n",
    "import os\n",
    "import re\n",
    "import sys"
   ]
  },
  {
   "cell_type": "markdown",
   "id": "fee8cc62-6b63-45ce-83a8-67c5050a6c97",
   "metadata": {},
   "source": [
    "Jupyter notebook handles some things differently than from the commandline"
   ]
  },
  {
   "cell_type": "code",
   "execution_count": null,
   "id": "45863859-a4ec-4dfd-aca0-8b8704ef4e95",
   "metadata": {
    "ExecuteTime": {
     "end_time": "2019-10-13T11:27:53.370454Z",
     "start_time": "2019-10-13T11:27:53.364756Z"
    },
    "tags": []
   },
   "outputs": [],
   "source": [
    "isnotebook = False\n",
    "try:\n",
    "    from IPython import get_ipython\n",
    "    isnotebook = (get_ipython().__class__.__name__ == \"ZMQInteractiveShell\")\n",
    "except:\n",
    "    pass"
   ]
  },
  {
   "cell_type": "markdown",
   "id": "5279a36f-cdb2-4be5-8a5a-d45d465aa0c4",
   "metadata": {},
   "source": [
    "## Initialize\n",
    "### Load parameters"
   ]
  },
  {
   "cell_type": "code",
   "execution_count": null,
   "id": "2efdffeb-089f-4d2c-b4aa-0c11e197a4b5",
   "metadata": {
    "tags": []
   },
   "outputs": [],
   "source": [
    "parser = argparse.ArgumentParser()\n",
    "parser.add_argument(\"--solve_log\", help=\"file to log solver status in\",\n",
    "                    default=None)\n",
    "parser.add_argument(\"--restart\", help=\"solution to initialize from\",\n",
    "                    default=None)\n",
    "parser.add_argument(\"--checkpoint_interval\", help=\"frequency to save results\",\n",
    "                    type=float, default=6.)\n",
    "parser.add_argument(\"--totaltime\", help=\"duration of full simulation\",\n",
    "                    type=float, default=600.)\n",
    "parser.add_argument(\"--numberOfElements\", help=\"number of total cells in a Grid2D\",\n",
    "                    type=int, default=1000000)\n",
    "parser.add_argument(\"--solver\", help=\"solver class to use\", default=\"pcg\")\n",
    "parser.add_argument(\"--preconditioner\", help=\"preconditioner class to use\", default=\"none\")\n",
    "parser.add_argument(\"--sweeps\", help=\"number of nonlinear sweeps to take\",\n",
    "                    type=int, default=5)\n",
    "parser.add_argument(\"--iterations\", help=\"maximum number of linear iterations to take for each sweep\",\n",
    "                    type=int, default=1000)\n",
    "parser.add_argument(\"--tolerance\", help=\"linear solver tolerance\",\n",
    "                    default=1e-10)\n",
    "parser.add_argument(\"--store_matrix\",\n",
    "                    help=\"store the matrix and RHS vector along with other output\",\n",
    "                    action='store_true')\n",
    "parser.add_argument(\"--gradient2thermal\",\n",
    "                    help=\"strength of gradient energy relative to thermal energy\",\n",
    "                    type=float, default=1)\n",
    "parser.add_argument(\"--segregation2transformation\",\n",
    "                    help=\"strength of segregation relative to transformation driving force\",\n",
    "                    type=float, default=1)\n",
    "parser.add_argument(\"--adsorption\",\n",
    "                    help=\"strength of relative adsorption\",\n",
    "                    type=float, default=0)\n",
    "parser.add_argument(\"--profile\",\n",
    "                    help=\"store profiling statistics along with other output\",\n",
    "                    action='store_true')\n",
    "parser.add_argument(\"--view\",\n",
    "                    help=\"whether to view the results\",\n",
    "                    action='store_true')"
   ]
  },
  {
   "cell_type": "markdown",
   "id": "a50be95a-2fe7-41e6-8efc-80ec718fafb9",
   "metadata": {},
   "source": [
    "### Set any parameters for interactive notebook"
   ]
  },
  {
   "cell_type": "code",
   "execution_count": 101,
   "id": "4bb5ff7e-9ad1-4451-b24e-e9a7f61da6eb",
   "metadata": {
    "ExecuteTime": {
     "end_time": "2019-10-13T11:27:53.395528Z",
     "start_time": "2019-10-13T11:27:53.389310Z"
    },
    "tags": []
   },
   "outputs": [],
   "source": [
    "if isnotebook:\n",
    "    # argv = [\"--numberOfElements=10000\", \"--totaltime=1.2\", \"--checkpoint_interval=0.12\",\n",
    "    #         \"--nucleation_scale=100\", \"--solve_log=nucleation6/solver.log\"]\n",
    "    argv = [\"--numberOfElements=100000\", \"--nucleation_scale=1000\", \"--solve_log=solidification3/solver.log\",\n",
    "            \"--segregation2transformation=6.\",\n",
    "           \"--restart=../../results/nucleation/nucleation18/t=300.0.npz\",\n",
    "           \"--store_matrix\"]\n",
    "else:\n",
    "    argv = None"
   ]
  },
  {
   "cell_type": "code",
   "execution_count": 102,
   "id": "5712027e-4be0-4452-881d-30b6ac1ef5d0",
   "metadata": {
    "tags": []
   },
   "outputs": [],
   "source": [
    "args, unknowns = parser.parse_known_args(args=argv)"
   ]
  },
  {
   "cell_type": "code",
   "execution_count": null,
   "id": "e0aec742-6f2d-48d1-8ce8-2713b04d9270",
   "metadata": {},
   "outputs": [],
   "source": [
    "if args.tolerance != \"default\":\n",
    "    args.tolerance = float(args.tolerance)"
   ]
  },
  {
   "cell_type": "markdown",
   "id": "e8cfaf3d-699d-4abe-8643-ea086ce5ff3e",
   "metadata": {},
   "source": [
    "### Setup ouput storage"
   ]
  },
  {
   "cell_type": "code",
   "execution_count": null,
   "id": "d7940a7b-7c6e-4411-b395-e86cd3bf094a",
   "metadata": {
    "ExecuteTime": {
     "end_time": "2019-10-13T11:27:57.903813Z",
     "start_time": "2019-10-13T11:27:55.983663Z"
    },
    "tags": []
   },
   "outputs": [],
   "source": [
    "if (args.solve_log is not None):\n",
    "    output = os.path.dirname(args.solve_log)\n",
    "    os.makedirs(output, exist_ok=True)\n",
    "else:\n",
    "    output = os.getcwd()"
   ]
  },
  {
   "cell_type": "markdown",
   "id": "109aaa1b-30ff-41df-a01c-4b6dab8de5e1",
   "metadata": {},
   "source": [
    "### Setup logging"
   ]
  },
  {
   "cell_type": "code",
   "execution_count": null,
   "id": "b9537130-123a-49b7-8ef6-1511fd700345",
   "metadata": {},
   "outputs": [],
   "source": [
    "if \"FIPY_LOG_CONFIG\" not in os.environ:\n",
    "    log_config = os.path.join(output, \"logger.json\")\n",
    "\n",
    "    with open(args.solve, \"w\") as f:\n",
    "        f.write(\"\"\"\n",
    "{{\n",
    "    \"version\": 1,\n",
    "    \"formatters\": {{\n",
    "        \"default\": {{\n",
    "            \"format\": \"%(asctime)s | %(levelname)s | %(name)s | %(funcName)s | %(message)s\"\n",
    "        }}\n",
    "    }},\n",
    "    \"handlers\": {{\n",
    "        \"serialfile\": {{\n",
    "            \"class\": \"logging.FileHandler\",\n",
    "            \"formatter\": \"default\",\n",
    "            \"filename\": \"{solve_log}\"\n",
    "        }}\n",
    "    }},\n",
    "    \"loggers\": {{\n",
    "        \"fipy\": {{\n",
    "            \"level\": \"DEBUG\",\n",
    "            \"handlers\": [\"serialfile\"]\n",
    "        }}\n",
    "    }}\n",
    "}}\n",
    "\"\"\".format(solve_log=args.solve_log))\n",
    "\n",
    "    os.environ[\"FIPY_LOG_CONFIG\"] = log_config"
   ]
  },
  {
   "cell_type": "markdown",
   "id": "ec4ae6c7-0ccb-4f05-a22a-a164e2b4e636",
   "metadata": {},
   "source": [
    "### Import FiPy"
   ]
  },
  {
   "cell_type": "code",
   "execution_count": null,
   "id": "d648e52b-534d-4870-bc45-35fe8482fa89",
   "metadata": {},
   "outputs": [],
   "source": [
    "%conda info"
   ]
  },
  {
   "cell_type": "code",
   "execution_count": null,
   "id": "f90305b7-1c4b-40ba-9347-ae2e01ca54c0",
   "metadata": {},
   "outputs": [],
   "source": [
    "import fipy as fp\n",
    "from fipy.tools import numerix as nmx\n",
    "from fipy.tools import parallelComm"
   ]
  },
  {
   "cell_type": "markdown",
   "id": "18937f3f-ad41-4313-a622-621eceb33557",
   "metadata": {},
   "source": [
    "### Initialize mesh and solution variables\n",
    "\n",
    "Either restart from some `path/to/restart/t={time}.npz`, where the time is assigned to `elapsed`\n",
    "\n",
    "or\n",
    "\n",
    "Create a mesh based on parameters. Set\n",
    ">  the computational domain is ... 1000×1000 "
   ]
  },
  {
   "cell_type": "code",
   "execution_count": null,
   "id": "7ec73c82-1674-4f2e-acb6-b92046730a1e",
   "metadata": {
    "tags": []
   },
   "outputs": [],
   "source": [
    "nx = ny = int(nmx.sqrt(args.numberOfElements))\n",
    "mesh = fp.Grid2D(nx=nx, ny=ny)\n",
    "phi = fp.CellVariable(mesh=mesh, name=r\"$\\phi$\", value=0., hasOld=True)\n",
    "elapsed = 0."
   ]
  },
  {
   "cell_type": "code",
   "execution_count": null,
   "id": "0c6143c2-dd47-46b3-9e19-5463cf15bd6d",
   "metadata": {
    "tags": []
   },
   "outputs": [],
   "source": [
    "if args.restart is not None:\n",
    "    data = nmx.load(args.restart)\n",
    "    lower, upper = int((1000 - nx) / 2), int((1000 + nx) / 2)\n",
    "    phi.setValue(data[\"phi\"][lower:upper, lower:upper].flat)\n",
    "\n",
    "    # scanf(\"%g\") simulator\n",
    "    # https://docs.python.org/3/library/re.html#simulating-scanf\n",
    "    scanf_g = r\"[-+]?(\\d+(\\.\\d*)?|\\.\\d+)([eE][-+]?\\d+)?\"\n",
    "    pattern = r\".*t=({g})\\.npz\".format(g=scanf_g)\n",
    "    elapsed = float(re.match(pattern, args.restart).group(1))"
   ]
  },
  {
   "cell_type": "code",
   "execution_count": null,
   "id": "ce07ca1f-faa1-4bba-a2c1-fe7940607cc1",
   "metadata": {
    "ExecuteTime": {
     "end_time": "2019-10-13T11:27:53.457100Z",
     "start_time": "2019-10-13T11:27:53.399834Z"
    },
    "tags": []
   },
   "outputs": [],
   "source": [
    "x, y = mesh.cellCenters[0], mesh.cellCenters[1]\n",
    "X, Y = mesh.faceCenters[0], mesh.faceCenters[1]"
   ]
  },
  {
   "cell_type": "code",
   "execution_count": null,
   "id": "9369f159-68fe-4059-8263-8f039d67cbf8",
   "metadata": {
    "tags": []
   },
   "outputs": [],
   "source": [
    "C = fp.CellVariable(mesh=mesh, name=\"$C$\", value=0.7 - 0.4 * phi, hasOld=True)"
   ]
  },
  {
   "cell_type": "code",
   "execution_count": null,
   "id": "6bad4e02-7ade-4be9-9213-80a5dc07aad8",
   "metadata": {
    "ExecuteTime": {
     "end_time": "2019-10-13T11:27:55.857436Z",
     "start_time": "2019-10-13T11:27:53.461310Z"
    },
    "tags": []
   },
   "outputs": [],
   "source": [
    "if isnotebook and config[\"view\"]:\n",
    "    viewer = fp.Viewer(vars=C, datamin=0., datamax=1.)\n",
    "    viewer.plot()"
   ]
  },
  {
   "cell_type": "markdown",
   "id": "0f7b0dda-f6a9-4b51-92bc-ec77c80743bc",
   "metadata": {},
   "source": [
    "## Create solver"
   ]
  },
  {
   "cell_type": "code",
   "execution_count": null,
   "id": "59ec9d75-05e6-4b70-86c8-043eecdc6380",
   "metadata": {
    "tags": []
   },
   "outputs": [],
   "source": [
    "precon = None\n",
    "\n",
    "if args.preconditioner == \"jacobi\":\n",
    "    precon = fp.JacobiPreconditioner()\n",
    "elif args.preconditioner == \"ilu\":\n",
    "    precon = fp.ILUPreconditioner()\n",
    "elif args.preconditioner == \"ssor\":\n",
    "    precon = fp.SSORPreconditioner()\n",
    "elif args.preconditioner == \"icc\":\n",
    "    precon = fp.ICPreconditioner()\n",
    "elif args.preconditioner == \"none\":\n",
    "    precon = None\n",
    "else:\n",
    "    precon = fp.solvers.__dict__[args.preconditioner]()\n",
    "\n",
    "if args.solver == \"cgs\":\n",
    "    solver_class = fp.LinearCGSSolver\n",
    "elif args.solver == \"gmres\":\n",
    "    solver_class = fp.LinearGMRESSolver\n",
    "elif args.solver == \"lu\":\n",
    "    solver_class = fp.LinearLUSolver\n",
    "elif args.solver == \"pcg\":\n",
    "    solver_class = fp.LinearPCGSolver\n",
    "else:\n",
    "    solver_class = fp.solvers.__dict__[args.solver]"
   ]
  },
  {
   "cell_type": "code",
   "execution_count": null,
   "id": "295b0dc7-e03a-4a98-b455-65686127e772",
   "metadata": {
    "tags": []
   },
   "outputs": [],
   "source": [
    "if solver_class == fp.LinearLUSolver:\n",
    "    precon = None # preconditioned lu doesn't make any sense"
   ]
  },
  {
   "cell_type": "code",
   "execution_count": null,
   "id": "43379d94-3beb-4668-ba09-dc923a2ca9ee",
   "metadata": {
    "tags": []
   },
   "outputs": [],
   "source": [
    "solver = solver_class(tolerance=config[\"tolerance\"], criterion=\"RHS\",\n",
    "                      iterations=config[\"iterations\"], precon=precon)"
   ]
  },
  {
   "cell_type": "markdown",
   "id": "ad781748-9d4d-4e62-b5e9-afc31719be90",
   "metadata": {
    "ExecuteTime": {
     "end_time": "2019-10-12T12:44:29.458892Z",
     "start_time": "2019-10-12T12:44:29.454698Z"
    }
   },
   "source": [
    "## Binary Alloy with Frozen Phase Field: governing equation"
   ]
  },
  {
   "cell_type": "markdown",
   "id": "53be75c6-e74d-403c-badd-a16f73853523",
   "metadata": {
    "tags": []
   },
   "source": [
    "Given the strength of the phase transformation driving force,\n",
    "$$\\Delta f = \\frac{1}{6\\sqrt{2}}$$"
   ]
  },
  {
   "cell_type": "code",
   "execution_count": null,
   "id": "b836fe19-e13c-424f-a455-bfd3092841cb",
   "metadata": {},
   "outputs": [],
   "source": [
    "Delta_f = 1 / (6 * nmx.sqrt(2.))"
   ]
  },
  {
   "cell_type": "markdown",
   "id": "e2eb4263-c61c-4373-aef8-25d80eb5e77d",
   "metadata": {
    "tags": []
   },
   "source": [
    "the strength of gradient energy relative to thermal energy, $\\xi$,"
   ]
  },
  {
   "cell_type": "code",
   "execution_count": null,
   "id": "bdc25096-0417-401a-9489-d0653f57aa98",
   "metadata": {},
   "outputs": [],
   "source": [
    "xi = args.gradient2thermal"
   ]
  },
  {
   "cell_type": "markdown",
   "id": "c1b1ab0b-908f-4b9c-845b-d2398a5e13ef",
   "metadata": {
    "tags": []
   },
   "source": [
    "the strength of the segregation relative to the nucleation driving force, $\\zeta$,"
   ]
  },
  {
   "cell_type": "code",
   "execution_count": null,
   "id": "696d2959-da95-475b-a8a3-ef75155512ff",
   "metadata": {},
   "outputs": [],
   "source": [
    "zeta = args.segregation2transformation"
   ]
  },
  {
   "cell_type": "markdown",
   "id": "89322195-629b-4db8-9ae7-e6ddc87fdcbe",
   "metadata": {
    "tags": []
   },
   "source": [
    "the strength of the relative adsorption, $\\tilde{W}$,"
   ]
  },
  {
   "cell_type": "code",
   "execution_count": null,
   "id": "2783fedb-dad3-4076-9670-270d166cb5ba",
   "metadata": {},
   "outputs": [],
   "source": [
    "Delta_W = args.adsorption"
   ]
  },
  {
   "cell_type": "markdown",
   "id": "b480fad5-d6c4-459f-9f11-4edc691d304d",
   "metadata": {},
   "source": [
    "the phase interpolation function\n",
    "\\begin{align}\n",
    "p(\\phi) & \\equiv \\phi^3 (6\\phi^2 - 15 \\phi + 10)\n",
    "\\end{align}"
   ]
  },
  {
   "cell_type": "code",
   "execution_count": null,
   "id": "35891889-de35-4c2b-a80e-58a96b37d9d4",
   "metadata": {
    "tags": []
   },
   "outputs": [],
   "source": [
    "def p(phi):\n",
    "    return phi**3 * (6 * phi**2 - 15 * phi + 10)"
   ]
  },
  {
   "cell_type": "markdown",
   "id": "285954d1-e3b1-4a8a-b2d2-02c3c4930143",
   "metadata": {},
   "source": [
    "and the double well function\n",
    "\\begin{align}\n",
    "g(\\phi) & \\equiv \\phi^2 (1 - \\phi)^2\n",
    "\\end{align}"
   ]
  },
  {
   "cell_type": "code",
   "execution_count": null,
   "id": "5fcddbc6-6ac3-4c14-b2e7-0124d11d3872",
   "metadata": {
    "tags": []
   },
   "outputs": [],
   "source": [
    "def g(phi):\n",
    "    return phi**2 * (1 - phi)**2"
   ]
  },
  {
   "cell_type": "markdown",
   "id": "0162aa68-1598-406b-9cd3-d0e0252d2b8c",
   "metadata": {},
   "source": [
    "diffusion with convection due to frozen phase boundary can be described by\n",
    "\\begin{align}\n",
    "\\frac{\\partial C}{\\partial t} &= \\nabla^2 C\n",
    "+ \\nabla\\cdot\\left[\n",
    "    C\\left(1-C\\right)\n",
    "    \\xi\n",
    "    \\left(\n",
    "        \\zeta \\Delta f p'(\\phi)\n",
    "        - \\frac{\\Delta\\tilde{W}}{2} g'(\\phi)\n",
    "    \\right)\n",
    "    \\nabla \\phi\\right]\n",
    "\\\\\n",
    "&= \\nabla^2 C\n",
    "+ \\nabla\\cdot\\left[\n",
    "    C\\left(1-C\\right)\n",
    "    \\xi\n",
    "    \\left(\n",
    "        \\zeta \\Delta f \\nabla p(\\phi)\n",
    "        - \\frac{\\Delta\\tilde{W}}{2} \\nabla g(\\phi)\n",
    "    \\right)\n",
    "\\right]\n",
    "\\end{align}"
   ]
  },
  {
   "cell_type": "code",
   "execution_count": null,
   "id": "c9646d5c-8a62-456f-8fd8-4e6254161d44",
   "metadata": {
    "tags": []
   },
   "outputs": [],
   "source": [
    "phaseTransformationVelocity = (1 - C).harmonicFaceValue * xi * (zeta * Delta_f * p(phi).faceGrad \n",
    "                                                                - 0.5 * Delta_W * g(phi).faceGrad)\n",
    "\n",
    "eq = (fp.TransientTerm(var=C)\n",
    "      == fp.DiffusionTerm(var=C)\n",
    "      + fp.ConvectionTerm(coeff=phaseTransformationVelocity, var=C))"
   ]
  },
  {
   "cell_type": "markdown",
   "id": "ebafbd93-15fc-4f39-91a1-25525e85126a",
   "metadata": {
    "tags": []
   },
   "source": [
    "## Free Energy"
   ]
  },
  {
   "cell_type": "markdown",
   "id": "66e2667a-4e95-4d0f-9192-2f4167dc39d1",
   "metadata": {
    "tags": []
   },
   "source": [
    "\\begin{align}\n",
    "\\frac{f(\\phi, C, T) V_m}{RT}\n",
    "&= \\xi \\left\\{ \n",
    "-\\Delta f \\left[1 + \\frac{1}{2} (1 - 2C) \\zeta\n",
    "\\right]p(\\phi)\\right.\n",
    "\\\\\n",
    "&\\qquad \\left. {} + \\left[\n",
    "1 - \\frac{1}{2} (1 - 2C) \\Delta\\tilde{W}\n",
    "\\right] g(\\phi)\n",
    "\\right\\}\n",
    "\\\\\n",
    "&\\qquad {} + \\left[\n",
    "    \\left(1 - C\\right)\\ln\\left(1 - C\\right) + C\\ln C\n",
    "\\right]\n",
    "\\end{align}"
   ]
  },
  {
   "cell_type": "code",
   "execution_count": null,
   "id": "26d4361a-da2c-4ea1-ac99-dc75b0066583",
   "metadata": {
    "tags": []
   },
   "outputs": [],
   "source": [
    "def f(phi, C):\n",
    "    return (xi * (-Delta_f * (1 + 0.5 * (1 - 2 * C) * zeta) * p(phi)\n",
    "                  + (1 + 0.5 * (1 - 2 * C) * Delta_W) * g(phi))\n",
    "            + (1 - C) * nmx.log(1 - C) + C * nmx.log(C))"
   ]
  },
  {
   "cell_type": "code",
   "execution_count": null,
   "id": "d4e0d3dc-7099-4f43-a1ef-eebc68d33d1b",
   "metadata": {
    "tags": []
   },
   "outputs": [],
   "source": [
    "phi_C_mesh = fp.Grid2D(nx=100, Lx=1., ny=100, Ly=1.)\n",
    "free_energy = f(phi=phi_C_mesh.y, C=phi_C_mesh.x)\n",
    "free_energy.name = r\"$\\phi$ vs. $C$\"\n",
    "if isnotebook and config[\"view\"]:\n",
    "    fp.Viewer(vars=free_energy)"
   ]
  },
  {
   "cell_type": "markdown",
   "id": "ab3ed4ea-56a8-4d9c-9d41-111708b5df93",
   "metadata": {},
   "source": [
    "## Setup output"
   ]
  },
  {
   "cell_type": "code",
   "execution_count": null,
   "id": "4b839c8d-f7a9-46ba-9fa3-26cba7615a34",
   "metadata": {},
   "outputs": [],
   "source": [
    "if parallelComm.procID == 0:\n",
    "    print(\"storing results in {0}\".format(output))"
   ]
  },
  {
   "cell_type": "markdown",
   "id": "1a3db56e-eedc-441b-9bbd-6b80eaaa9ae2",
   "metadata": {},
   "source": [
    "### Define output routines"
   ]
  },
  {
   "cell_type": "code",
   "execution_count": null,
   "id": "f51a80de-241d-49dd-81bb-ebaaac03174b",
   "metadata": {
    "ExecuteTime": {
     "end_time": "2019-10-13T11:27:57.917659Z",
     "start_time": "2019-10-13T11:27:57.907449Z"
    }
   },
   "outputs": [],
   "source": [
    "def saveC(elapsed):\n",
    "    C_value = C.globalValue.reshape((nx, ny))\n",
    "    if parallelComm.procID == 0:\n",
    "        fname = os.path.join(output, \"t={}.npz\".format(elapsed))\n",
    "        nmx.savez(fname, C=C_value)\n",
    "\n",
    "def saveMatrix(elapsed):\n",
    "    mtxname = os.path.join(output, \"t={}.mtx\".format(elapsed))\n",
    "    eq.matrix.exportMmf(mtxname)\n",
    "    \n",
    "    rhs_value = eq.RHSvector\n",
    "    if parallelComm.procID == 0:\n",
    "        rhsname = os.path.join(output, \"t={}.rhs.npz\".format(elapsed))\n",
    "        nmx.savez(rhsname, rhs=rhs_value)\n",
    "\n",
    "def save_energy():\n",
    "    nx = phi_C_mesh.nx\n",
    "    ny = phi_C_mesh.ny\n",
    "    energy_value = free_energy.globalValue\n",
    "    energy_value = energy_value.reshape((nx, ny))\n",
    "    if parallelComm.procID == 0:\n",
    "        fname = os.path.join(output, \"energy.npz\")\n",
    "        nmx.savez(fname, energy=energy_value)\n",
    "    \n",
    "def checkpoint_data(elapsed, store_matrix=False):\n",
    "    saveC(elapsed)\n",
    "    if store_matrix:\n",
    "        saveMatrix(elapsed)"
   ]
  },
  {
   "cell_type": "code",
   "execution_count": null,
   "id": "d2deca14-5b3f-4ca6-b2d6-7ed36f002786",
   "metadata": {
    "tags": []
   },
   "outputs": [],
   "source": [
    "save_energy()"
   ]
  },
  {
   "cell_type": "markdown",
   "id": "16ca224a-ca8a-49b4-8e2c-a9cdf8f4fe58",
   "metadata": {},
   "source": [
    "### Figure out when to save"
   ]
  },
  {
   "cell_type": "code",
   "execution_count": null,
   "id": "8305fd9d-3128-4818-8e6a-814dbf0b44e5",
   "metadata": {
    "ExecuteTime": {
     "end_time": "2019-10-13T11:27:57.929625Z",
     "start_time": "2019-10-13T11:27:57.922003Z"
    },
    "code_folding": [
     2
    ],
    "tags": []
   },
   "outputs": [],
   "source": [
    "checkpoints = (fp.numerix.arange(int(elapsed / args.checkpoint_interval),\n",
    "                                 int(args.totaltime / args.checkpoint_interval))\n",
    "               + 1) * args.checkpoint_interval\n",
    "\n",
    "checkpoints.sort()"
   ]
  },
  {
   "cell_type": "markdown",
   "id": "24b5fef6-15f6-4260-8ffa-6bf36f4b4346",
   "metadata": {},
   "source": [
    "## Solve and output"
   ]
  },
  {
   "cell_type": "code",
   "execution_count": null,
   "id": "0ae62e8c-0bfe-4a9e-becb-b246a74b4582",
   "metadata": {
    "ExecuteTime": {
     "end_time": "2019-10-13T11:27:58.004270Z",
     "start_time": "2019-10-13T11:27:57.999215Z"
    },
    "tags": []
   },
   "outputs": [],
   "source": [
    "times = checkpoints\n",
    "times = times[(times > elapsed) & (times <= args.totaltime)]"
   ]
  },
  {
   "cell_type": "code",
   "execution_count": null,
   "id": "b308b998-347c-42eb-878b-be57814907de",
   "metadata": {},
   "outputs": [],
   "source": [
    "print(elapsed)"
   ]
  },
  {
   "cell_type": "code",
   "execution_count": null,
   "id": "63d41881",
   "metadata": {},
   "outputs": [],
   "source": [
    "print(times)"
   ]
  },
  {
   "cell_type": "code",
   "execution_count": null,
   "id": "a38218d1",
   "metadata": {},
   "outputs": [],
   "source": [
    "print(config[\"totaltime\"])"
   ]
  },
  {
   "cell_type": "code",
   "execution_count": null,
   "id": "2709c885-a87a-4454-90a3-e15a0b968b62",
   "metadata": {},
   "outputs": [],
   "source": [
    "if args.profile:\n",
    "    import cProfile\n",
    "\n",
    "    pr = cProfile.Profile()\n",
    "    pr.enable()"
   ]
  },
  {
   "cell_type": "code",
   "execution_count": null,
   "id": "ed1e3fb2-b296-4cd1-9ea5-3f05fe92598f",
   "metadata": {
    "ExecuteTime": {
     "end_time": "2019-10-13T11:29:26.493420Z",
     "start_time": "2019-10-13T11:27:58.008465Z"
    },
    "tags": []
   },
   "outputs": [],
   "source": [
    "from steppyngstounes import CheckpointStepper, FixedStepper\n",
    "\n",
    "eq.cacheMatrix()\n",
    "eq.cacheRHSvector()\n",
    "\n",
    "C.updateOld()\n",
    "for checkpoint in CheckpointStepper(start=elapsed,\n",
    "                                    stops=times,\n",
    "                                    stop=args.totaltime):\n",
    "\n",
    "    for step in FixedStepper(start=checkpoint.begin,\n",
    "                             stop=checkpoint.end,\n",
    "                             size=1.):\n",
    "\n",
    "        state = dict(state=\"START\", numberOfElements=mesh.numberOfCells, sweeps=args.sweeps)\n",
    "        if precon is None:\n",
    "            state[\"preconditioner\"] = None\n",
    "        else:\n",
    "            state[\"preconditioner\"] = precon.__class__.__name__\n",
    "\n",
    "        solver._log.debug(json.dumps(state))\n",
    "\n",
    "        for sweep in range(args.sweeps):\n",
    "            res = eq.sweep(var=C, dt=step.size, solver=solver)\n",
    "\n",
    "        state[\"state\"] = \"END\"\n",
    "        solver._log.debug(json.dumps(state))\n",
    "\n",
    "        C.updateOld()\n",
    "        # stats.append(current_stats(step.end))\n",
    "\n",
    "        _ = step.succeeded(error=res / 1e-3)\n",
    "\n",
    "    if checkpoint.end in checkpoints:\n",
    "        # don't save nucleation events?\n",
    "        checkpoint_data(checkpoint.end, store_matrix=args.store_matrix)\n",
    "\n",
    "    if isnotebook and args.view:\n",
    "        viewer.plot()\n",
    "        # labelViewer.plot()\n",
    "\n",
    "    _ = checkpoint.succeeded()"
   ]
  },
  {
   "cell_type": "code",
   "execution_count": null,
   "id": "fc832dbb-a111-4a92-b82e-30461bdd5e93",
   "metadata": {},
   "outputs": [],
   "source": [
    "if args.profile:\n",
    "    pr.disable()\n",
    "    \n",
    "    pr.dump_stats(os.path.join(output, \"profile-{0}.prof\".format(parallelComm.procID)))"
   ]
  }
 ],
 "metadata": {
  "kernelspec": {
   "display_name": "Python 3 (ipykernel)",
   "language": "python",
   "name": "python3"
  },
  "language_info": {
   "codemirror_mode": {
    "name": "ipython",
    "version": 3
   },
   "file_extension": ".py",
   "mimetype": "text/x-python",
   "name": "python",
   "nbconvert_exporter": "python",
   "pygments_lexer": "ipython3",
   "version": "3.12.3"
  },
  "nbdime-conflicts": {
   "local_diff": [
    {
     "diff": [
      {
       "diff": [
        {
         "key": 0,
         "length": 1,
         "op": "removerange"
        }
       ],
       "key": "version",
       "op": "patch"
      }
     ],
     "key": "language_info",
     "op": "patch"
    }
   ],
   "remote_diff": [
    {
     "diff": [
      {
       "diff": [
        {
         "diff": [
          {
           "key": 5,
           "op": "addrange",
           "valuelist": "5"
          },
          {
           "key": 5,
           "length": 2,
           "op": "removerange"
          }
         ],
         "key": 0,
         "op": "patch"
        }
       ],
       "key": "version",
       "op": "patch"
      }
     ],
     "key": "language_info",
     "op": "patch"
    }
   ]
  }
 },
 "nbformat": 4,
 "nbformat_minor": 5
}

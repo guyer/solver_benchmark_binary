{
 "cells": [
  {
   "cell_type": "markdown",
   "id": "4baf20be-c72f-4a63-bf98-59a85fa60ebc",
   "metadata": {},
   "source": [
    "# Test of conda environment activation"
   ]
  },
  {
   "cell_type": "code",
   "execution_count": null,
   "id": "d648e52b-534d-4870-bc45-35fe8482fa89",
   "metadata": {},
   "outputs": [],
   "source": [
    "!conda info > {snakemake.output[0]}"
   ]
  },
  {
   "cell_type": "code",
   "execution_count": null,
   "id": "f90305b7-1c4b-40ba-9347-ae2e01ca54c0",
   "metadata": {},
   "outputs": [],
   "source": [
    "import fipy as fp"
   ]
  }
 ],
 "metadata": {
  "kernelspec": {
   "display_name": "Python 3 (ipykernel)",
   "language": "python",
   "name": "python3"
  },
  "language_info": {
   "codemirror_mode": {
    "name": "ipython",
    "version": 3
   },
   "file_extension": ".py",
   "mimetype": "text/x-python",
   "name": "python",
   "nbconvert_exporter": "python",
   "pygments_lexer": "ipython3",
   "version": "3.11.4"
  }
 },
 "nbformat": 4,
 "nbformat_minor": 5
}
